{
 "cells": [
  {
   "cell_type": "code",
   "execution_count": 2,
   "metadata": {
    "collapsed": true
   },
   "outputs": [],
   "source": [
    "import pexpect "
   ]
  },
  {
   "cell_type": "code",
   "execution_count": 4,
   "metadata": {
    "collapsed": false
   },
   "outputs": [
    {
     "name": "stdout",
     "output_type": "stream",
     "text": [
      "b'  0\\r\\n\\r\\n     Statistical Testing In Progress.........\\r\\n\\r\\n     Statistical Testing Complete'\n"
     ]
    }
   ],
   "source": [
    "child = pexpect.spawn(\"./assess 100000\")\n",
    "child.expect(\"Choice:\")\n",
    "child.sendline(\"0\")\n",
    "child.expect(\":\")\n",
    "child.sendline(\"data/data.pi\")\n",
    "child.expect(\"Choice:\")\n",
    "child.sendline(\"1\")\n",
    "child.expect(\":\") # test parameter adjustments\n",
    "child.sendline(\"0\")\n",
    "child.expect(\"bitstreams?\") \n",
    "child.sendline(\"10\")\n",
    "child.expect(\"mode:\") \n",
    "child.sendline(\"0\")\n",
    "child.expect(\"!\")\n",
    "print(child.before)"
   ]
  }
 ],
 "metadata": {
  "anaconda-cloud": {},
  "kernelspec": {
   "display_name": "Python [Root]",
   "language": "python",
   "name": "Python [Root]"
  },
  "language_info": {
   "codemirror_mode": {
    "name": "ipython",
    "version": 3
   },
   "file_extension": ".py",
   "mimetype": "text/x-python",
   "name": "python",
   "nbconvert_exporter": "python",
   "pygments_lexer": "ipython3",
   "version": "3.5.2"
  }
 },
 "nbformat": 4,
 "nbformat_minor": 0
}
