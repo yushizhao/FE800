{
 "cells": [
  {
   "cell_type": "code",
   "execution_count": 13,
   "metadata": {
    "collapsed": true
   },
   "outputs": [],
   "source": [
    "# in case\n",
    "import os\n",
    "os.getcwd()"
   ]
  },
  {
   "cell_type": "code",
   "execution_count": 1,
   "metadata": {
    "collapsed": true
   },
   "outputs": [],
   "source": [
    "import numpy as np"
   ]
  },
  {
   "cell_type": "code",
   "execution_count": 2,
   "metadata": {
    "collapsed": false
   },
   "outputs": [
    {
     "name": "stderr",
     "output_type": "stream",
     "text": [
      "/home/yushi/anaconda3/lib/python3.5/site-packages/numpy/lib/npyio.py:893: UserWarning: loadtxt: Empty input file: \"./experiments/AlgorithmTesting/Universal/results.txt\"\n",
      "  warnings.warn('loadtxt: Empty input file: \"%s\"' % fname)\n"
     ]
    }
   ],
   "source": [
    "TEST = ['ApproximateEntropy','Frequency' ,\n",
    "'BlockFrequency','LinearComplexity','Rank',\n",
    "'CumulativeSums','LongestRun','Runs',\n",
    "'FFT','OverlappingTemplate','Universal',\n",
    "# Following tests has more than one set of p-value combined in results.txt. \n",
    "'Serial','RandomExcursions','RandomExcursionsVariant','NonOverlappingTemplate' \n",
    "]\n",
    "PATH = [\"./experiments/AlgorithmTesting/\" + t + \"/results.txt\" for t in TEST]\n",
    "VALUE = [np.loadtxt(p) for p in PATH]\n",
    "collection = dict(zip(TEST,VALUE))"
   ]
  },
  {
   "cell_type": "code",
   "execution_count": 3,
   "metadata": {
    "collapsed": false
   },
   "outputs": [],
   "source": [
    "from bokeh.plotting import figure, show"
   ]
  },
  {
   "cell_type": "code",
   "execution_count": 5,
   "metadata": {
    "collapsed": false
   },
   "outputs": [],
   "source": [
    "p1 = figure(title=\"p-value histogram for NonOverlappingTemplate\",tools=\"save\",\n",
    "            background_fill_color=\"#E8DDCB\")\n",
    "hist, edges = np.histogram(collection['NonOverlappingTemplate'], density=False, bins=10)\n",
    "p1.quad(top=hist, bottom=0, left=edges[:-1], right=edges[1:],\n",
    "        fill_color=\"#036564\", line_color=\"#033649\")\n",
    "show(p1)"
   ]
  }
 ],
 "metadata": {
  "anaconda-cloud": {},
  "kernelspec": {
   "display_name": "Python [Root]",
   "language": "python",
   "name": "Python [Root]"
  },
  "language_info": {
   "codemirror_mode": {
    "name": "ipython",
    "version": 3
   },
   "file_extension": ".py",
   "mimetype": "text/x-python",
   "name": "python",
   "nbconvert_exporter": "python",
   "pygments_lexer": "ipython3",
   "version": "3.5.2"
  }
 },
 "nbformat": 4,
 "nbformat_minor": 0
}
